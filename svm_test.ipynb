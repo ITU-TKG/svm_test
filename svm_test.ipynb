{
 "cells": [
  {
   "cell_type": "markdown",
   "metadata": {},
   "source": [
    "データの読み込み"
   ]
  },
  {
   "cell_type": "code",
   "execution_count": 5,
   "metadata": {},
   "outputs": [],
   "source": [
    "import os\n",
    "import pandas as pd\n",
    "import numpy as np\n",
    "import zipfile\n",
    "import matplotlib.pyplot as plt\n",
    "import japanize_matplotlib\n",
    "import wordcloud\n",
    "\n",
    "zip = \"C:/Users/bi23014/Desktop/先端情報学/余りデータ/精神疾患データ.zip\"\n",
    "\n",
    "with zipfile.ZipFile(zip) as z:\n",
    "    for info in z.infolist():\n",
    "        info.filename = info.filename.encode(\"cp437\").decode(\"cp932\")\n",
    "        z.extract(info)"
   ]
  },
  {
   "cell_type": "code",
   "execution_count": 13,
   "metadata": {},
   "outputs": [
    {
     "name": "stderr",
     "output_type": "stream",
     "text": [
      "<>:1: SyntaxWarning: invalid escape sequence '\\d'\n",
      "<>:1: SyntaxWarning: invalid escape sequence '\\d'\n",
      "C:\\Users\\bi23014\\AppData\\Local\\Temp\\ipykernel_39072\\1644416798.py:1: SyntaxWarning: invalid escape sequence '\\d'\n",
      "  path = \"twitter_depression_cleaned\\depression_dataset_reddit_cleaned.csv\"\n"
     ]
    }
   ],
   "source": [
    "path = \"twitter_depression_cleaned\\depression_dataset_reddit_cleaned.csv\"\n",
    "df = pd.read_csv(path,header=0,sep=\",\",encoding='UTF-8-sig')\n",
    "\n",
    "label = df[\"is_depression\"].tolist()\n",
    "text = df[\"clean_text\"].tolist()"
   ]
  },
  {
   "cell_type": "markdown",
   "metadata": {},
   "source": [
    "データの確認"
   ]
  },
  {
   "cell_type": "code",
   "execution_count": null,
   "metadata": {},
   "outputs": [],
   "source": [
    "#ディレクトリ作成\n",
    "os.makedirs(\"画像\")\n",
    "\n",
    "print(plt.rcParams['font.family'])\n",
    "\n",
    "# ラベルの分布をヒストグラムで表示\n",
    "plt.figure(figsize=(10, 6))\n",
    "df[\"is_depression\"].value_counts().plot(kind='bar')\n",
    "plt.title(\"ラベルの分布\")\n",
    "plt.xlabel('ラベル')\n",
    "plt.ylabel('数')\n",
    "plt.xticks(rotation=0)\n",
    "plt.grid(True)\n",
    "plt.savefig(\"depression_label.png\")\n",
    "plt.show()\n"
   ]
  },
  {
   "cell_type": "code",
   "execution_count": null,
   "metadata": {},
   "outputs": [],
   "source": [
    "#ワードクラウド\n",
    "from wordcloud import WordCloud\n",
    "df_label_neg = df[df[\"is_depression\"] == 1]\n",
    "df_label_pos = df[df[\"is_depression\"] == 0]\n",
    "# テキストデータを結合\n",
    "word_cloud_text = \" \".join(df_label_neg[\"clean_text\"].tolist())\n",
    "word_cloud = WordCloud(width=800, height=400, background_color=\"white\", font_path=\"C:/Windows/Fonts/msgothic.ttc\").generate(word_cloud_text)\n",
    "plt.figure(figsize=(10, 5))\n",
    "plt.imshow(word_cloud, interpolation='bilinear')\n",
    "plt.axis('off')\n",
    "plt.show()\n",
    "#画像の保存\n",
    "word_cloud.to_file(\"./画像/neg_svm_wordcloud.png\")\n",
    "\n",
    "# テキストデータを結合\n",
    "word_cloud_text = \" \".join(df_label_pos[\"clean_text\"].tolist())\n",
    "word_cloud = WordCloud(width=800, height=400, background_color=\"white\", font_path=\"C:/Windows/Fonts/msgothic.ttc\").generate(word_cloud_text)\n",
    "plt.figure(figsize=(10, 5))\n",
    "plt.imshow(word_cloud, interpolation='bilinear')\n",
    "plt.axis('off')\n",
    "plt.show()\n",
    "#画像の保存\n",
    "word_cloud.to_file(\"./画像/pos_svm_wordcloud.png\")"
   ]
  },
  {
   "cell_type": "markdown",
   "metadata": {},
   "source": [
    "訓練・評価の分割"
   ]
  },
  {
   "cell_type": "code",
   "execution_count": 20,
   "metadata": {},
   "outputs": [
    {
     "name": "stderr",
     "output_type": "stream",
     "text": [
      "c:\\Users\\bi23014\\python-env-test\\.venv\\Lib\\site-packages\\tqdm\\auto.py:21: TqdmWarning: IProgress not found. Please update jupyter and ipywidgets. See https://ipywidgets.readthedocs.io/en/stable/user_install.html\n",
      "  from .autonotebook import tqdm as notebook_tqdm\n",
      "None of PyTorch, TensorFlow >= 2.0, or Flax have been found. Models won't be available and only tokenizers, configuration and file/data utilities can be used.\n"
     ]
    }
   ],
   "source": [
    "from sklearn.model_selection import train_test_split\n",
    "from transformers.trainer_utils import set_seed\n",
    "\n",
    "set_seed(0)\n",
    "x_train,x_val,y_train,y_val = train_test_split(text,label,test_size=0.2)"
   ]
  },
  {
   "cell_type": "code",
   "execution_count": 21,
   "metadata": {},
   "outputs": [],
   "source": [
    "from sklearn.feature_extraction.text import TfidfVectorizer\n",
    "# テキストデータを数値ベクトルに変換\n",
    "vectorizer = TfidfVectorizer()\n",
    "x_train_tfidf = vectorizer.fit_transform(x_train)\n",
    "x_val_tfidf = vectorizer.transform(x_val)\n"
   ]
  },
  {
   "cell_type": "code",
   "execution_count": null,
   "metadata": {},
   "outputs": [
    {
     "name": "stdout",
     "output_type": "stream",
     "text": [
      "0.9580\n"
     ]
    },
    {
     "data": {
      "image/png": "[encoded data removed]",
      "text/plain": [
       "<Figure size 800x600 with 2 Axes>"
      ]
     },
     "metadata": {},
     "output_type": "display_data"
    }
   ],
   "source": [
    "from sklearn import svm\n",
    "from sklearn.metrics import accuracy_score, confusion_matrix\n",
    "import seaborn as sns\n",
    "import umap\n",
    "\n",
    "model = svm.SVC(kernel='linear')\n",
    "model.fit(x_train_tfidf,y_train)\n",
    "\n",
    "\n",
    "# トレーニングデータに対する精度\n",
    "pred = model.predict(x_val_tfidf)\n",
    "accuracy = accuracy_score(y_val, pred)\n",
    "print(f'{accuracy:.4f}')\n",
    "\n",
    "# 混同行列を計算して表示\n",
    "cm = confusion_matrix(y_val, pred)\n",
    "    \n",
    "# 混同行列をヒートマップとして表示\n",
    "plt.figure(figsize=(8, 6))\n",
    "sns.heatmap(\n",
    "    cm,\n",
    "    annot=True,\n",
    "    fmt='d',\n",
    "    cmap='Blues',\n",
    "    xticklabels=['0','1'],\n",
    "    yticklabels=['0','1'],\n",
    "    annot_kws={\"size\": 10}\n",
    "    )\n",
    "\n",
    "plt.xlabel('Predicted')\n",
    "plt.ylabel('Actual')\n",
    "plt.title('Confusion Matrix')\n",
    "plt.show()"
   ]
  }
 ],
 "metadata": {
  "kernelspec": {
   "display_name": ".venv",
   "language": "python",
   "name": "python3"
  },
  "language_info": {
   "codemirror_mode": {
    "name": "ipython",
    "version": 3
   },
   "file_extension": ".py",
   "mimetype": "text/x-python",
   "name": "python",
   "nbconvert_exporter": "python",
   "pygments_lexer": "ipython3",
   "version": "3.13.2"
  }
 },
 "nbformat": 4,
 "nbformat_minor": 2
}
